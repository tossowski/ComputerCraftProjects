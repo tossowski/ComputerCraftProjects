{
 "cells": [
  {
   "cell_type": "code",
   "execution_count": 1,
   "metadata": {},
   "outputs": [],
   "source": [
    "import skimage\n",
    "import numpy as np\n",
    "import sys\n",
    "from matplotlib import pyplot as plt\n"
   ]
  },
  {
   "cell_type": "code",
   "execution_count": null,
   "metadata": {},
   "outputs": [],
   "source": [
    "imageName = \"aot.png\"\n",
    "image = skimage.io.imread(imageName)\n",
    "w, h, d = image.shape\n",
    "image = skimage.transform.resize(image, (w//4, h//4, 3)) * 255\n",
    "print(image.shape)\n",
    "colors = {}\n",
    "\n",
    "for i in range(len(image)):\n",
    "    for j in range(len(image[0])):\n",
    "        color = [int(x) for x in image[i,j,:3]]\n",
    "        hexed = '#%02x%02x%02x' % tuple(color)\n",
    "        if hexed in colors:\n",
    "            colors[hexed] += 1\n",
    "        else:\n",
    "            colors[hexed] = 1\n",
    "\n",
    "print(len(list(colors.keys())))\n",
    "print(len(image) * len(image[0]))"
   ]
  }
 ],
 "metadata": {
  "kernelspec": {
   "display_name": "Python 3",
   "language": "python",
   "name": "python3"
  },
  "language_info": {
   "codemirror_mode": {
    "name": "ipython",
    "version": 3
   },
   "file_extension": ".py",
   "mimetype": "text/x-python",
   "name": "python",
   "nbconvert_exporter": "python",
   "pygments_lexer": "ipython3",
   "version": "3.7.3"
  }
 },
 "nbformat": 4,
 "nbformat_minor": 2
}
